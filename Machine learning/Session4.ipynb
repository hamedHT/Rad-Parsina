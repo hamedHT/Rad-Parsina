{
 "cells": [
  {
   "cell_type": "code",
   "execution_count": null,
   "id": "b1e4f081-8264-4ff0-94d9-592ad3a121e3",
   "metadata": {},
   "outputs": [],
   "source": [
    "import numpy as np\n",
    "import pandas as pd\n",
    "import matplotlib.pyplot as plt"
   ]
  },
  {
   "cell_type": "code",
   "execution_count": null,
   "id": "fb0f4c52-eea3-4ff2-9c2b-05aa23e744f3",
   "metadata": {},
   "outputs": [],
   "source": [
    "years=[1960,1970,1980,1990,2000,2010,2020]\n",
    "iranPop=[21.19,28.51,38.67,56.23,66.13,74.75,80.29]\n",
    "turkeyPop=[27.47,34.88,43.98,53.92,63.24,72.33,79.51]"
   ]
  },
  {
   "cell_type": "code",
   "execution_count": null,
   "id": "61060c18-35c4-4339-bd80-be192d07012a",
   "metadata": {},
   "outputs": [],
   "source": [
    "plt.plot(years,iranPop,ls='-',marker='+',mew=8)\n",
    "plt.plot(years,turkeyPop,ls='--',lw=1)\n",
    "plt.title('iran us turkey')\n",
    "plt.legend(['iran','terkey'],loc='best')\n",
    "plt.xlabel('years')\n",
    "plt.ylabel('population')\n",
    "plt.grid()\n",
    "plt.show()"
   ]
  },
  {
   "cell_type": "code",
   "execution_count": null,
   "id": "d47a43c1-0f99-452a-a20e-294c13c464bd",
   "metadata": {},
   "outputs": [],
   "source": [
    "plt.subplot(1,2,1)\n",
    "plt.plot(years,iranPop)\n",
    "plt.title('iran population')\n",
    "plt.subplot(1,2,2)\n",
    "plt.plot(years,turkeyPop)\n",
    "plt.title('turkey population')\n",
    "plt.show()"
   ]
  },
  {
   "cell_type": "code",
   "execution_count": null,
   "id": "8405cee7-2556-4dc1-ba5b-6425d74500d2",
   "metadata": {},
   "outputs": [],
   "source": [
    "import seaborn as sb\n",
    "\n",
    "smartphones=pd.read_csv('d://smartphones.csv')\n",
    "smartphones"
   ]
  },
  {
   "cell_type": "code",
   "execution_count": null,
   "id": "c0c198a9-2478-4b61-9d16-20e7364e0370",
   "metadata": {},
   "outputs": [],
   "source": [
    "sb.stripplot(x='OS',y='Capacity',data=smartphones,size=10)\n",
    "plt.show()\n"
   ]
  },
  {
   "cell_type": "code",
   "execution_count": null,
   "id": "16f4cd15-42ef-4acd-80bb-f33471c9c8eb",
   "metadata": {},
   "outputs": [],
   "source": [
    "sb.swarmplot(x='OS',y='Capacity',data=smartphones,size=15,hue='Company')\n",
    "plt.show()"
   ]
  },
  {
   "cell_type": "code",
   "execution_count": null,
   "id": "0bdb8f43-bc59-431c-a055-3a5ccd3090eb",
   "metadata": {},
   "outputs": [],
   "source": [
    "sb.boxplot(x='Company',y='Ram',data=smartphones)\n",
    "plt.show()"
   ]
  },
  {
   "cell_type": "code",
   "execution_count": null,
   "id": "2cdd8342-ff70-457f-8bba-367a1162873b",
   "metadata": {},
   "outputs": [],
   "source": [
    "sb.pairplot(smartphones,hue='Name',palette='hls',plot_kws={'s':80})\n",
    "plt.show()"
   ]
  }
 ],
 "metadata": {
  "kernelspec": {
   "display_name": "Python 3 (ipykernel)",
   "language": "python",
   "name": "python3"
  },
  "language_info": {
   "codemirror_mode": {
    "name": "ipython",
    "version": 3
   },
   "file_extension": ".py",
   "mimetype": "text/x-python",
   "name": "python",
   "nbconvert_exporter": "python",
   "pygments_lexer": "ipython3",
   "version": "3.12.7"
  }
 },
 "nbformat": 4,
 "nbformat_minor": 5
}
